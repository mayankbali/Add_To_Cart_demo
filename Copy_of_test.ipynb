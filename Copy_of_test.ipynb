{
  "nbformat": 4,
  "nbformat_minor": 0,
  "metadata": {
    "colab": {
      "name": "Copy of test.ipynb",
      "provenance": [],
      "mount_file_id": "1njs0LKnwP26mXTWUVcNu143Ke2cLBjpr",
      "authorship_tag": "ABX9TyP1dQ2kIRiVpTvIBclEaT5n",
      "include_colab_link": true
    },
    "kernelspec": {
      "name": "python3",
      "display_name": "Python 3"
    },
    "language_info": {
      "name": "python"
    }
  },
  "cells": [
    {
      "cell_type": "markdown",
      "metadata": {
        "id": "view-in-github",
        "colab_type": "text"
      },
      "source": [
        "<a href=\"https://colab.research.google.com/github/mayankbali/Add_To_Cart_demo/blob/master/Copy_of_test.ipynb\" target=\"_parent\"><img src=\"https://colab.research.google.com/assets/colab-badge.svg\" alt=\"Open In Colab\"/></a>"
      ]
    },
    {
      "cell_type": "code",
      "metadata": {
        "colab": {
          "base_uri": "https://localhost:8080/"
        },
        "id": "hV9gP0b9IRIg",
        "outputId": "69c991be-01f4-4dec-da73-abcfdbf96b54"
      },
      "source": [
        "print(\"Mayank\")"
      ],
      "execution_count": null,
      "outputs": [
        {
          "output_type": "stream",
          "name": "stdout",
          "text": [
            "Mayank\n"
          ]
        }
      ]
    },
    {
      "cell_type": "markdown",
      "metadata": {
        "id": "IqJAyytBKKsU"
      },
      "source": [
        "# New Section"
      ]
    },
    {
      "cell_type": "code",
      "metadata": {
        "id": "s_HVdhYaKSES"
      },
      "source": [
        ""
      ],
      "execution_count": null,
      "outputs": []
    },
    {
      "cell_type": "markdown",
      "metadata": {
        "id": "VraI-J6kKS2j"
      },
      "source": [
        ""
      ]
    },
    {
      "cell_type": "markdown",
      "metadata": {
        "id": "bqR8o8izIwL7"
      },
      "source": [
        "***Hello My Name is Mayank***"
      ]
    },
    {
      "cell_type": "code",
      "metadata": {
        "id": "rpADhN3dI148"
      },
      "source": [
        ""
      ],
      "execution_count": null,
      "outputs": []
    }
  ]
}